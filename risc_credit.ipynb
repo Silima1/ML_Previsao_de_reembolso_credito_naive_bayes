{
 "cells": [
  {
   "cell_type": "markdown",
   "id": "4709d0e0",
   "metadata": {},
   "source": [
    " # PREVISAO DE RISCO DE CREDITOS COM NAIVE BAYES\n",
    "\n"
   ]
  },
  {
   "cell_type": "code",
   "execution_count": 14,
   "id": "179a89a9",
   "metadata": {},
   "outputs": [],
   "source": [
    "import pandas as pd\n",
    "import numpy as np\n",
    "from sklearn.naive_bayes import GaussianNB"
   ]
  },
  {
   "cell_type": "code",
   "execution_count": 2,
   "id": "3f8e9ed4",
   "metadata": {},
   "outputs": [],
   "source": [
    "risco_credito = pd.read_csv('../Dados/Bases_de_dados/risco_credito.csv')"
   ]
  },
  {
   "cell_type": "code",
   "execution_count": 3,
   "id": "5dc751a0",
   "metadata": {},
   "outputs": [
    {
     "data": {
      "text/html": [
       "<div>\n",
       "<style scoped>\n",
       "    .dataframe tbody tr th:only-of-type {\n",
       "        vertical-align: middle;\n",
       "    }\n",
       "\n",
       "    .dataframe tbody tr th {\n",
       "        vertical-align: top;\n",
       "    }\n",
       "\n",
       "    .dataframe thead th {\n",
       "        text-align: right;\n",
       "    }\n",
       "</style>\n",
       "<table border=\"1\" class=\"dataframe\">\n",
       "  <thead>\n",
       "    <tr style=\"text-align: right;\">\n",
       "      <th></th>\n",
       "      <th>historia</th>\n",
       "      <th>divida</th>\n",
       "      <th>garantias</th>\n",
       "      <th>renda</th>\n",
       "      <th>risco</th>\n",
       "    </tr>\n",
       "  </thead>\n",
       "  <tbody>\n",
       "    <tr>\n",
       "      <th>0</th>\n",
       "      <td>ruim</td>\n",
       "      <td>alta</td>\n",
       "      <td>nenhuma</td>\n",
       "      <td>0_15</td>\n",
       "      <td>alto</td>\n",
       "    </tr>\n",
       "    <tr>\n",
       "      <th>1</th>\n",
       "      <td>desconhecida</td>\n",
       "      <td>alta</td>\n",
       "      <td>nenhuma</td>\n",
       "      <td>15_35</td>\n",
       "      <td>alto</td>\n",
       "    </tr>\n",
       "    <tr>\n",
       "      <th>2</th>\n",
       "      <td>desconhecida</td>\n",
       "      <td>baixa</td>\n",
       "      <td>nenhuma</td>\n",
       "      <td>15_35</td>\n",
       "      <td>moderado</td>\n",
       "    </tr>\n",
       "    <tr>\n",
       "      <th>3</th>\n",
       "      <td>desconhecida</td>\n",
       "      <td>baixa</td>\n",
       "      <td>nenhuma</td>\n",
       "      <td>acima_35</td>\n",
       "      <td>alto</td>\n",
       "    </tr>\n",
       "    <tr>\n",
       "      <th>4</th>\n",
       "      <td>desconhecida</td>\n",
       "      <td>baixa</td>\n",
       "      <td>nenhuma</td>\n",
       "      <td>acima_35</td>\n",
       "      <td>baixo</td>\n",
       "    </tr>\n",
       "    <tr>\n",
       "      <th>5</th>\n",
       "      <td>desconhecida</td>\n",
       "      <td>baixa</td>\n",
       "      <td>adequada</td>\n",
       "      <td>acima_35</td>\n",
       "      <td>baixo</td>\n",
       "    </tr>\n",
       "    <tr>\n",
       "      <th>6</th>\n",
       "      <td>ruim</td>\n",
       "      <td>baixa</td>\n",
       "      <td>nenhuma</td>\n",
       "      <td>0_15</td>\n",
       "      <td>alto</td>\n",
       "    </tr>\n",
       "    <tr>\n",
       "      <th>7</th>\n",
       "      <td>ruim</td>\n",
       "      <td>baixa</td>\n",
       "      <td>adequada</td>\n",
       "      <td>acima_35</td>\n",
       "      <td>moderado</td>\n",
       "    </tr>\n",
       "    <tr>\n",
       "      <th>8</th>\n",
       "      <td>boa</td>\n",
       "      <td>baixa</td>\n",
       "      <td>nenhuma</td>\n",
       "      <td>acima_35</td>\n",
       "      <td>baixo</td>\n",
       "    </tr>\n",
       "    <tr>\n",
       "      <th>9</th>\n",
       "      <td>boa</td>\n",
       "      <td>alta</td>\n",
       "      <td>adequada</td>\n",
       "      <td>acima_35</td>\n",
       "      <td>baixo</td>\n",
       "    </tr>\n",
       "    <tr>\n",
       "      <th>10</th>\n",
       "      <td>boa</td>\n",
       "      <td>alta</td>\n",
       "      <td>nenhuma</td>\n",
       "      <td>0_15</td>\n",
       "      <td>alto</td>\n",
       "    </tr>\n",
       "    <tr>\n",
       "      <th>11</th>\n",
       "      <td>boa</td>\n",
       "      <td>alta</td>\n",
       "      <td>nenhuma</td>\n",
       "      <td>15_35</td>\n",
       "      <td>moderado</td>\n",
       "    </tr>\n",
       "    <tr>\n",
       "      <th>12</th>\n",
       "      <td>boa</td>\n",
       "      <td>alta</td>\n",
       "      <td>nenhuma</td>\n",
       "      <td>acima_35</td>\n",
       "      <td>baixo</td>\n",
       "    </tr>\n",
       "    <tr>\n",
       "      <th>13</th>\n",
       "      <td>ruim</td>\n",
       "      <td>alta</td>\n",
       "      <td>nenhuma</td>\n",
       "      <td>15_35</td>\n",
       "      <td>alto</td>\n",
       "    </tr>\n",
       "  </tbody>\n",
       "</table>\n",
       "</div>"
      ],
      "text/plain": [
       "        historia divida garantias     renda     risco\n",
       "0           ruim   alta   nenhuma      0_15      alto\n",
       "1   desconhecida   alta   nenhuma     15_35      alto\n",
       "2   desconhecida  baixa   nenhuma     15_35  moderado\n",
       "3   desconhecida  baixa   nenhuma  acima_35      alto\n",
       "4   desconhecida  baixa   nenhuma  acima_35     baixo\n",
       "5   desconhecida  baixa  adequada  acima_35     baixo\n",
       "6           ruim  baixa   nenhuma      0_15      alto\n",
       "7           ruim  baixa  adequada  acima_35  moderado\n",
       "8            boa  baixa   nenhuma  acima_35     baixo\n",
       "9            boa   alta  adequada  acima_35     baixo\n",
       "10           boa   alta   nenhuma      0_15      alto\n",
       "11           boa   alta   nenhuma     15_35  moderado\n",
       "12           boa   alta   nenhuma  acima_35     baixo\n",
       "13          ruim   alta   nenhuma     15_35      alto"
      ]
     },
     "execution_count": 3,
     "metadata": {},
     "output_type": "execute_result"
    }
   ],
   "source": [
    "risco_credito"
   ]
  },
  {
   "cell_type": "code",
   "execution_count": 4,
   "id": "4aa07cae",
   "metadata": {},
   "outputs": [],
   "source": [
    "# Separacao de variaveis\n",
    "X_risco_credito = risco_credito.iloc[:, 0:4].values # variavel X"
   ]
  },
  {
   "cell_type": "code",
   "execution_count": 5,
   "id": "24d83ff4",
   "metadata": {},
   "outputs": [
    {
     "data": {
      "text/plain": [
       "array([['ruim', 'alta', 'nenhuma', '0_15'],\n",
       "       ['desconhecida', 'alta', 'nenhuma', '15_35'],\n",
       "       ['desconhecida', 'baixa', 'nenhuma', '15_35'],\n",
       "       ['desconhecida', 'baixa', 'nenhuma', 'acima_35'],\n",
       "       ['desconhecida', 'baixa', 'nenhuma', 'acima_35'],\n",
       "       ['desconhecida', 'baixa', 'adequada', 'acima_35'],\n",
       "       ['ruim', 'baixa', 'nenhuma', '0_15'],\n",
       "       ['ruim', 'baixa', 'adequada', 'acima_35'],\n",
       "       ['boa', 'baixa', 'nenhuma', 'acima_35'],\n",
       "       ['boa', 'alta', 'adequada', 'acima_35'],\n",
       "       ['boa', 'alta', 'nenhuma', '0_15'],\n",
       "       ['boa', 'alta', 'nenhuma', '15_35'],\n",
       "       ['boa', 'alta', 'nenhuma', 'acima_35'],\n",
       "       ['ruim', 'alta', 'nenhuma', '15_35']], dtype=object)"
      ]
     },
     "execution_count": 5,
     "metadata": {},
     "output_type": "execute_result"
    }
   ],
   "source": [
    "X_risco_credito"
   ]
  },
  {
   "cell_type": "code",
   "execution_count": 6,
   "id": "b2e4d0b1",
   "metadata": {},
   "outputs": [],
   "source": [
    "y_risco_credito = risco_credito.iloc[:, 4].values # variavel y"
   ]
  },
  {
   "cell_type": "code",
   "execution_count": 7,
   "id": "eeb2d5a7",
   "metadata": {},
   "outputs": [
    {
     "data": {
      "text/plain": [
       "array(['alto', 'alto', 'moderado', 'alto', 'baixo', 'baixo', 'alto',\n",
       "       'moderado', 'baixo', 'baixo', 'alto', 'moderado', 'baixo', 'alto'],\n",
       "      dtype=object)"
      ]
     },
     "execution_count": 7,
     "metadata": {},
     "output_type": "execute_result"
    }
   ],
   "source": [
    "y_risco_credito"
   ]
  },
  {
   "cell_type": "code",
   "execution_count": 8,
   "id": "124cf92e",
   "metadata": {},
   "outputs": [],
   "source": [
    "# Conversao de strings e numericos com LABELENCODER\n",
    "from sklearn.preprocessing import LabelEncoder\n",
    "variavel1_historia = LabelEncoder()\n",
    "variavel2_divida = LabelEncoder()\n",
    "variavel3_garantias = LabelEncoder()\n",
    "variavel4_renda = LabelEncoder()"
   ]
  },
  {
   "cell_type": "code",
   "execution_count": 9,
   "id": "c21a1fef",
   "metadata": {},
   "outputs": [],
   "source": [
    "# Aplicar os processamentos\n",
    "X_risco_credito[:,0] = variavel1_historia.fit_transform(X_risco_credito[:,0])\n",
    "X_risco_credito[:,1] = variavel2_divida.fit_transform(X_risco_credito[:,1])\n",
    "X_risco_credito[:,2] = variavel3_garantias.fit_transform(X_risco_credito[:,2])\n",
    "X_risco_credito[:,3] = variavel4_renda.fit_transform(X_risco_credito[:,3])\n"
   ]
  },
  {
   "cell_type": "code",
   "execution_count": 10,
   "id": "52f3693e",
   "metadata": {},
   "outputs": [
    {
     "data": {
      "text/plain": [
       "array([[2, 0, 1, 0],\n",
       "       [1, 0, 1, 1],\n",
       "       [1, 1, 1, 1],\n",
       "       [1, 1, 1, 2],\n",
       "       [1, 1, 1, 2],\n",
       "       [1, 1, 0, 2],\n",
       "       [2, 1, 1, 0],\n",
       "       [2, 1, 0, 2],\n",
       "       [0, 1, 1, 2],\n",
       "       [0, 0, 0, 2],\n",
       "       [0, 0, 1, 0],\n",
       "       [0, 0, 1, 1],\n",
       "       [0, 0, 1, 2],\n",
       "       [2, 0, 1, 1]], dtype=object)"
      ]
     },
     "execution_count": 10,
     "metadata": {},
     "output_type": "execute_result"
    }
   ],
   "source": [
    "X_risco_credito"
   ]
  },
  {
   "cell_type": "code",
   "execution_count": 11,
   "id": "f2bfebba",
   "metadata": {},
   "outputs": [],
   "source": [
    "import pickle\n",
    "with open('risco_credito.pkl', 'wb') as f:\n",
    "    pickle.dump([X_risco_credito, y_risco_credito],f)"
   ]
  },
  {
   "cell_type": "code",
   "execution_count": 15,
   "id": "6b364d13",
   "metadata": {},
   "outputs": [
    {
     "data": {
      "text/plain": [
       "GaussianNB()"
      ]
     },
     "execution_count": 15,
     "metadata": {},
     "output_type": "execute_result"
    }
   ],
   "source": [
    "#TREINAR O MODELO\n",
    "naive_risco_credito = GaussianNB() \n",
    "naive_risco_credito.fit(X_risco_credito, y_risco_credito)"
   ]
  },
  {
   "cell_type": "code",
   "execution_count": 21,
   "id": "9d71a28f",
   "metadata": {},
   "outputs": [],
   "source": [
    "# Historia boa (0), divida alta(0), garantias nenhuma(1), renda > 35(2)\n",
    "# Historia ruim (2), divida alta(1), garantias adequadas (0), renda <15(0)\n",
    "\n",
    "previsao = naive_risco_credito.predict([[0,0,1,2],[2,1,0,0]])"
   ]
  },
  {
   "cell_type": "code",
   "execution_count": 22,
   "id": "19b8cebc",
   "metadata": {},
   "outputs": [
    {
     "data": {
      "text/plain": [
       "array(['baixo', 'moderado'], dtype='<U8')"
      ]
     },
     "execution_count": 22,
     "metadata": {},
     "output_type": "execute_result"
    }
   ],
   "source": [
    "previsao"
   ]
  },
  {
   "cell_type": "code",
   "execution_count": 23,
   "id": "646a884c",
   "metadata": {},
   "outputs": [
    {
     "data": {
      "text/plain": [
       "array(['alto', 'baixo', 'moderado'], dtype='<U8')"
      ]
     },
     "execution_count": 23,
     "metadata": {},
     "output_type": "execute_result"
    }
   ],
   "source": [
    "naive_risco_credito.classes_"
   ]
  },
  {
   "cell_type": "code",
   "execution_count": 26,
   "id": "e30ec25b",
   "metadata": {},
   "outputs": [
    {
     "data": {
      "text/plain": [
       "array([6., 5., 3.])"
      ]
     },
     "execution_count": 26,
     "metadata": {},
     "output_type": "execute_result"
    }
   ],
   "source": [
    "naive_risco_credito.class_count_"
   ]
  },
  {
   "cell_type": "code",
   "execution_count": 28,
   "id": "bd632e64",
   "metadata": {},
   "outputs": [
    {
     "data": {
      "text/plain": [
       "array([0.42857143, 0.35714286, 0.21428571])"
      ]
     },
     "execution_count": 28,
     "metadata": {},
     "output_type": "execute_result"
    }
   ],
   "source": [
    "naive_risco_credito.class_prior_"
   ]
  },
  {
   "cell_type": "code",
   "execution_count": null,
   "id": "2710986d",
   "metadata": {},
   "outputs": [],
   "source": []
  }
 ],
 "metadata": {
  "kernelspec": {
   "display_name": "Python 3 (ipykernel)",
   "language": "python",
   "name": "python3"
  },
  "language_info": {
   "codemirror_mode": {
    "name": "ipython",
    "version": 3
   },
   "file_extension": ".py",
   "mimetype": "text/x-python",
   "name": "python",
   "nbconvert_exporter": "python",
   "pygments_lexer": "ipython3",
   "version": "3.9.7"
  }
 },
 "nbformat": 4,
 "nbformat_minor": 5
}
